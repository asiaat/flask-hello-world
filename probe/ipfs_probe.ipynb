{
 "cells": [
  {
   "cell_type": "code",
   "execution_count": null,
   "metadata": {},
   "outputs": [],
   "source": [
    "!pip install ipfshttpclient"
   ]
  },
  {
   "cell_type": "code",
   "execution_count": 2,
   "metadata": {},
   "outputs": [],
   "source": [
    "import urllib.request \n",
    "import json\n",
    "\n"
   ]
  },
  {
   "cell_type": "code",
   "execution_count": 3,
   "metadata": {},
   "outputs": [
    {
     "name": "stdout",
     "output_type": "stream",
     "text": [
      "{'name': 'PUG', 'description': 'An adorable PUG pup!', 'image': 'https://ipfs.io/ipfs/QmSsYRx3LpDAb1GZQm7zZ1AuHZjfbPkD6J7s9r41xu1mf8?filename=pug.png', 'attributes': [{'trait_type': 'cuteness', 'value': 100}]}\n"
     ]
    }
   ],
   "source": [
    "# content ID\n",
    "cid0 = \"bafkreifacnxyt7p45fat7nirzcqhw45ac4lphyqb5ltyrnpttq3iqm4miu\"\n",
    "cid = \"Qmc1xCEQ1pcbpsD89abSeqg3eVnhWNkyhR38DCsUEABBte\"\n",
    "cid2 = \"QmQQEmzQa7851wgSLHB3qeSn77qRWdEMqQRDSb1oA8FDNJ\"\n",
    "\n",
    "# read .json\n",
    "with urllib.request.urlopen(f\"https://dweb.link/ipfs/{cid}\") as url:\n",
    "    data = json.loads(url.read())\n",
    "    print(data)"
   ]
  },
  {
   "cell_type": "code",
   "execution_count": 4,
   "metadata": {},
   "outputs": [],
   "source": [
    "import requests\n",
    "import json"
   ]
  },
  {
   "cell_type": "code",
   "execution_count": 5,
   "metadata": {},
   "outputs": [],
   "source": [
    "proj_id = '2TEasvlIepRnGZwQWKGjy4PcRVS'\n",
    "proj_secret = '3f71ebe5ea462f4bb1c78f70bbb812ee'"
   ]
  },
  {
   "cell_type": "code",
   "execution_count": 6,
   "metadata": {},
   "outputs": [
    {
     "name": "stdout",
     "output_type": "stream",
     "text": [
      "https://ipfs.infura.io:5001/api/v0/get?arg=QmPmHk4MpNifLFxBzoCtwdiAHJSy8QKhRvN5eiaCYJKdkV&archive=true\n"
     ]
    }
   ],
   "source": [
    "arg1 = \"QmZtmD2qt6fJot32nabSP3CUjicnypEBz7bHVDhPQt9aAy\"\n",
    "arg = \"QmPmHk4MpNifLFxBzoCtwdiAHJSy8QKhRvN5eiaCYJKdkV\"\n",
    "url = f\"https://ipfs.infura.io:5001/api/v0/get?arg={arg}&archive=true\"\n",
    "print(url)"
   ]
  },
  {
   "cell_type": "code",
   "execution_count": 7,
   "metadata": {},
   "outputs": [],
   "source": [
    "\n",
    "response = requests.post(url,\n",
    "                         auth=(proj_id, proj_secret))"
   ]
  },
  {
   "cell_type": "code",
   "execution_count": null,
   "metadata": {},
   "outputs": [
    {
     "name": "stdout",
     "output_type": "stream",
     "text": [
      "QmPmHk4MpNifLFxBzoCtwdiAHJSy8QKhRvN5eiaCYJKdkV\u0000\u0000\u0000\u0000\u0000\u0000\u0000\u0000\u0000\u0000\u0000\u0000\u0000\u0000\u0000\u0000\u0000\u0000\u0000\u0000\u0000\u0000\u0000\u0000\u0000\u0000\u0000\u0000\u0000\u0000\u0000\u0000\u0000\u0000\u0000\u0000\u0000\u0000\u0000\u0000\u0000\u0000\u0000\u0000\u0000\u0000\u0000\u0000\u0000\u0000\u0000\u0000\u0000\u00000000644\u00000000000\u00000000000\u000000000000515\u000014461137340\u0000017301\u0000 0\u0000\u0000\u0000\u0000\u0000\u0000\u0000\u0000\u0000\u0000\u0000\u0000\u0000\u0000\u0000\u0000\u0000\u0000\u0000\u0000\u0000\u0000\u0000\u0000\u0000\u0000\u0000\u0000\u0000\u0000\u0000\u0000\u0000\u0000\u0000\u0000\u0000\u0000\u0000\u0000\u0000\u0000\u0000\u0000\u0000\u0000\u0000\u0000\u0000\u0000\u0000\u0000\u0000\u0000\u0000\u0000\u0000\u0000\u0000\u0000\u0000\u0000\u0000\u0000\u0000\u0000\u0000\u0000\u0000\u0000\u0000\u0000\u0000\u0000\u0000\u0000\u0000\u0000\u0000\u0000\u0000\u0000\u0000\u0000\u0000\u0000\u0000\u0000\u0000\u0000\u0000\u0000\u0000\u0000\u0000\u0000\u0000\u0000\u0000\u0000ustar\u000000\u0000\u0000\u0000\u0000\u0000\u0000\u0000\u0000\u0000\u0000\u0000\u0000\u0000\u0000\u0000\u0000\u0000\u0000\u0000\u0000\u0000\u0000\u0000\u0000\u0000\u0000\u0000\u0000\u0000\u0000\u0000\u0000\u0000\u0000\u0000\u0000\u0000\u0000\u0000\u0000\u0000\u0000\u0000\u0000\u0000\u0000\u0000\u0000\u0000\u0000\u0000\u0000\u0000\u0000\u0000\u0000\u0000\u0000\u0000\u0000\u0000\u0000\u0000\u00000000000\u00000000000\u0000\u0000\u0000\u0000\u0000\u0000\u0000\u0000\u0000\u0000\u0000\u0000\u0000\u0000\u0000\u0000\u0000\u0000\u0000\u0000\u0000\u0000\u0000\u0000\u0000\u0000\u0000\u0000\u0000\u0000\u0000\u0000\u0000\u0000\u0000\u0000\u0000\u0000\u0000\u0000\u0000\u0000\u0000\u0000\u0000\u0000\u0000\u0000\u0000\u0000\u0000\u0000\u0000\u0000\u0000\u0000\u0000\u0000\u0000\u0000\u0000\u0000\u0000\u0000\u0000\u0000\u0000\u0000\u0000\u0000\u0000\u0000\u0000\u0000\u0000\u0000\u0000\u0000\u0000\u0000\u0000\u0000\u0000\u0000\u0000\u0000\u0000\u0000\u0000\u0000\u0000\u0000\u0000\u0000\u0000\u0000\u0000\u0000\u0000\u0000\u0000\u0000\u0000\u0000\u0000\u0000\u0000\u0000\u0000\u0000\u0000\u0000\u0000\u0000\u0000\u0000\u0000\u0000\u0000\u0000\u0000\u0000\u0000\u0000\u0000\u0000\u0000\u0000\u0000\u0000\u0000\u0000\u0000\u0000\u0000\u0000\u0000\u0000\u0000\u0000\u0000\u0000\u0000\u0000\u0000\u0000\u0000\u0000\u0000\u0000\u0000\u0000\u0000\u0000\u0000\u0000\u0000\u0000\u0000\u0000\u0000\u0000\u0000\u0000\u0000\u0000\u0000\u0000{\n",
      "    \"name\": \"PUG\",\n",
      "    \"description\": \"An adorable PUG pup!\",\n",
      "    \"image\": \"https://ipfs.io/ipfs/QmSsYRx3LpDAb1GZQm7zZ1AuHZjfbPkD6J7s9r41xu1mf8?filename=pug.png\",\n",
      "    \"attributes\": [\n",
      "      {\n",
      "        \"trait_type\": \"cuteness\",\n",
      "        \"value\": 100\n",
      "      },\n",
      "      {\n",
      "        \"trait_type\": \"hairy\",\n",
      "        \"value\": 96\n",
      "      }\n",
      "    ]\n",
      "  }\u0000\u0000\u0000\u0000\u0000\u0000\u0000\u0000\u0000\u0000\u0000\u0000\u0000\u0000\u0000\u0000\u0000\u0000\u0000\u0000\u0000\u0000\u0000\u0000\u0000\u0000\u0000\u0000\u0000\u0000\u0000\u0000\u0000\u0000\u0000\u0000\u0000\u0000\u0000\u0000\u0000\u0000\u0000\u0000\u0000\u0000\u0000\u0000\u0000\u0000\u0000\u0000\u0000\u0000\u0000\u0000\u0000\u0000\u0000\u0000\u0000\u0000\u0000\u0000\u0000\u0000\u0000\u0000\u0000\u0000\u0000\u0000\u0000\u0000\u0000\u0000\u0000\u0000\u0000\u0000\u0000\u0000\u0000\u0000\u0000\u0000\u0000\u0000\u0000\u0000\u0000\u0000\u0000\u0000\u0000\u0000\u0000\u0000\u0000\u0000\u0000\u0000\u0000\u0000\u0000\u0000\u0000\u0000\u0000\u0000\u0000\u0000\u0000\u0000\u0000\u0000\u0000\u0000\u0000\u0000\u0000\u0000\u0000\u0000\u0000\u0000\u0000\u0000\u0000\u0000\u0000\u0000\u0000\u0000\u0000\u0000\u0000\u0000\u0000\u0000\u0000\u0000\u0000\u0000\u0000\u0000\u0000\u0000\u0000\u0000\u0000\u0000\u0000\u0000\u0000\u0000\u0000\u0000\u0000\u0000\u0000\u0000\u0000\u0000\u0000\u0000\u0000\u0000\u0000\u0000\u0000\u0000\u0000\u0000\u0000\u0000\u0000\u0000\u0000\u0000\u0000\u0000\u0000\u0000\u0000\u0000\u0000\u0000\u0000\u0000\u0000\u0000\u0000\u0000\u0000\u0000\u0000\u0000\u0000\u0000\u0000\u0000\u0000\u0000\u0000\u0000\u0000\u0000\u0000\u0000\u0000\u0000\u0000\u0000\u0000\u0000\u0000\u0000\u0000\u0000\u0000\u0000\u0000\u0000\u0000\u0000\u0000\u0000\u0000\u0000\u0000\u0000\u0000\u0000\u0000\u0000\u0000\u0000\u0000\u0000\u0000\u0000\u0000\u0000\u0000\u0000\u0000\u0000\u0000\u0000\u0000\u0000\u0000\u0000\u0000\u0000\u0000\u0000\u0000\u0000\u0000\u0000\u0000\u0000\u0000\u0000\u0000\u0000\u0000\u0000\u0000\u0000\u0000\u0000\u0000\u0000\u0000\u0000\u0000\u0000\u0000\u0000\u0000\u0000\u0000\u0000\u0000\u0000\u0000\u0000\u0000\u0000\u0000\u0000\u0000\u0000\u0000\u0000\u0000\u0000\u0000\u0000\u0000\u0000\u0000\u0000\u0000\u0000\u0000\u0000\u0000\u0000\u0000\u0000\u0000\u0000\u0000\u0000\u0000\u0000\u0000\u0000\u0000\u0000\u0000\u0000\u0000\u0000\u0000\u0000\u0000\u0000\u0000\u0000\u0000\u0000\u0000\u0000\u0000\u0000\u0000\u0000\u0000\u0000\u0000\u0000\u0000\u0000\u0000\u0000\u0000\u0000\u0000\u0000\u0000\u0000\u0000\u0000\u0000\u0000\u0000\u0000\u0000\u0000\u0000\u0000\u0000\u0000\u0000\u0000\u0000\u0000\u0000\u0000\u0000\u0000\u0000\u0000\u0000\u0000\u0000\u0000\u0000\u0000\u0000\u0000\u0000\u0000\u0000\u0000\u0000\u0000\u0000\u0000\u0000\u0000\u0000\u0000\u0000\u0000\u0000\u0000\u0000\u0000\u0000\u0000\u0000\u0000\u0000\u0000\u0000\u0000\u0000\u0000\u0000\u0000\u0000\u0000\u0000\u0000\u0000\u0000\u0000\u0000\u0000\u0000\u0000\u0000\u0000\u0000\u0000\u0000\u0000\u0000\u0000\u0000\u0000\u0000\u0000\u0000\u0000\u0000\u0000\u0000\u0000\u0000\u0000\u0000\u0000\u0000\u0000\u0000\u0000\u0000\u0000\u0000\u0000\u0000\u0000\u0000\u0000\u0000\u0000\u0000\u0000\u0000\u0000\u0000\u0000\u0000\u0000\u0000\u0000\u0000\u0000\u0000\u0000\u0000\u0000\u0000\u0000\u0000\u0000\u0000\u0000\u0000\u0000\u0000\u0000\u0000\u0000\u0000\u0000\u0000\u0000\u0000\u0000\u0000\u0000\u0000\u0000\u0000\u0000\u0000\u0000\u0000\u0000\u0000\u0000\u0000\u0000\u0000\u0000\u0000\u0000\u0000\u0000\u0000\u0000\u0000\u0000\u0000\u0000\u0000\u0000\u0000\u0000\u0000\u0000\u0000\u0000\u0000\u0000\u0000\u0000\u0000\u0000\u0000\u0000\u0000\u0000\u0000\u0000\u0000\u0000\u0000\u0000\u0000\u0000\u0000\u0000\u0000\u0000\u0000\u0000\u0000\u0000\u0000\u0000\u0000\u0000\u0000\u0000\u0000\u0000\u0000\u0000\u0000\u0000\u0000\u0000\u0000\u0000\u0000\u0000\u0000\u0000\u0000\u0000\u0000\u0000\u0000\u0000\u0000\u0000\u0000\u0000\u0000\u0000\u0000\u0000\u0000\u0000\u0000\u0000\u0000\u0000\u0000\u0000\u0000\u0000\u0000\u0000\u0000\u0000\u0000\u0000\u0000\u0000\u0000\u0000\u0000\u0000\u0000\u0000\u0000\u0000\u0000\u0000\u0000\u0000\u0000\u0000\u0000\u0000\u0000\u0000\u0000\u0000\u0000\u0000\u0000\u0000\u0000\u0000\u0000\u0000\u0000\u0000\u0000\u0000\u0000\u0000\u0000\u0000\u0000\u0000\u0000\u0000\u0000\u0000\u0000\u0000\u0000\u0000\u0000\u0000\u0000\u0000\u0000\u0000\u0000\u0000\u0000\u0000\u0000\u0000\u0000\u0000\u0000\u0000\u0000\u0000\u0000\u0000\u0000\u0000\u0000\u0000\u0000\u0000\u0000\u0000\u0000\u0000\u0000\u0000\u0000\u0000\u0000\u0000\u0000\u0000\u0000\u0000\u0000\u0000\u0000\u0000\u0000\u0000\u0000\u0000\u0000\u0000\u0000\u0000\u0000\u0000\u0000\u0000\u0000\u0000\u0000\u0000\u0000\u0000\u0000\u0000\u0000\u0000\u0000\u0000\u0000\u0000\u0000\u0000\u0000\u0000\u0000\u0000\u0000\u0000\u0000\u0000\u0000\u0000\u0000\u0000\u0000\u0000\u0000\u0000\u0000\u0000\u0000\u0000\u0000\u0000\u0000\u0000\u0000\u0000\u0000\u0000\u0000\u0000\u0000\u0000\u0000\u0000\u0000\u0000\u0000\u0000\u0000\u0000\u0000\u0000\u0000\u0000\u0000\u0000\u0000\u0000\u0000\u0000\u0000\u0000\u0000\u0000\u0000\u0000\u0000\u0000\u0000\u0000\u0000\u0000\u0000\u0000\u0000\u0000\u0000\u0000\u0000\u0000\u0000\u0000\u0000\u0000\u0000\u0000\u0000\u0000\u0000\u0000\u0000\u0000\u0000\u0000\u0000\u0000\u0000\u0000\u0000\u0000\u0000\u0000\u0000\u0000\u0000\u0000\u0000\u0000\u0000\u0000\u0000\u0000\u0000\u0000\u0000\u0000\u0000\u0000\u0000\u0000\u0000\u0000\u0000\u0000\u0000\u0000\u0000\u0000\u0000\u0000\u0000\u0000\u0000\u0000\u0000\u0000\u0000\u0000\u0000\u0000\u0000\u0000\u0000\u0000\u0000\u0000\u0000\u0000\u0000\u0000\u0000\u0000\u0000\u0000\u0000\u0000\u0000\u0000\u0000\u0000\u0000\u0000\u0000\u0000\u0000\u0000\u0000\u0000\u0000\u0000\u0000\u0000\u0000\u0000\u0000\u0000\u0000\u0000\u0000\u0000\u0000\u0000\u0000\u0000\u0000\u0000\u0000\u0000\u0000\u0000\u0000\u0000\u0000\u0000\u0000\u0000\u0000\u0000\u0000\u0000\u0000\u0000\u0000\u0000\u0000\u0000\u0000\u0000\u0000\u0000\u0000\u0000\u0000\u0000\u0000\u0000\u0000\u0000\u0000\u0000\u0000\u0000\u0000\u0000\u0000\u0000\u0000\u0000\u0000\u0000\u0000\u0000\u0000\u0000\u0000\u0000\u0000\u0000\u0000\u0000\u0000\u0000\u0000\u0000\u0000\u0000\u0000\u0000\u0000\u0000\u0000\u0000\u0000\u0000\u0000\u0000\u0000\u0000\u0000\u0000\u0000\u0000\u0000\u0000\u0000\u0000\u0000\u0000\u0000\u0000\u0000\u0000\u0000\u0000\u0000\u0000\u0000\u0000\u0000\u0000\u0000\u0000\u0000\u0000\u0000\u0000\u0000\u0000\u0000\u0000\u0000\u0000\u0000\u0000\u0000\u0000\u0000\u0000\u0000\u0000\u0000\u0000\u0000\u0000\u0000\u0000\u0000\u0000\u0000\u0000\u0000\u0000\u0000\u0000\u0000\u0000\u0000\u0000\u0000\u0000\u0000\u0000\u0000\u0000\u0000\u0000\u0000\u0000\u0000\u0000\u0000\u0000\u0000\u0000\u0000\u0000\u0000\u0000\u0000\u0000\u0000\u0000\u0000\u0000\u0000\u0000\u0000\u0000\u0000\u0000\u0000\u0000\u0000\u0000\u0000\u0000\u0000\u0000\u0000\u0000\u0000\u0000\u0000\u0000\u0000\u0000\u0000\u0000\u0000\u0000\u0000\u0000\u0000\u0000\u0000\u0000\u0000\u0000\u0000\u0000\u0000\u0000\u0000\u0000\u0000\u0000\u0000\u0000\u0000\u0000\u0000\u0000\u0000\u0000\u0000\u0000\u0000\u0000\u0000\u0000\u0000\u0000\u0000\u0000\u0000\u0000\u0000\u0000\u0000\u0000\u0000\u0000\u0000\u0000\u0000\u0000\u0000\u0000\u0000\u0000\u0000\u0000\u0000\u0000\u0000\u0000\u0000\u0000\u0000\u0000\u0000\u0000\u0000\u0000\u0000\u0000\u0000\u0000\u0000\u0000\u0000\u0000\u0000\u0000\u0000\u0000\u0000\u0000\u0000\u0000\u0000\u0000\u0000\u0000\u0000\u0000\u0000\u0000\u0000\u0000\u0000\u0000\u0000\u0000\u0000\u0000\u0000\u0000\u0000\u0000\u0000\u0000\u0000\u0000\u0000\u0000\u0000\u0000\u0000\u0000\u0000\u0000\u0000\u0000\u0000\u0000\n"
     ]
    }
   ],
   "source": [
    "print(response.text)\n"
   ]
  },
  {
   "cell_type": "code",
   "execution_count": 10,
   "metadata": {},
   "outputs": [
    {
     "name": "stdout",
     "output_type": "stream",
     "text": [
      "{'Access-Control-Allow-Headers': 'X-Stream-Output, X-Chunked-Output, X-Content-Length', 'Access-Control-Expose-Headers': 'X-Stream-Output, X-Chunked-Output, X-Content-Length', 'Content-Type': 'text/plain', 'Date': 'Sat, 29 Jul 2023 08:49:20 GMT', 'Server': 'kubo/0.17.0', 'Trailer': 'X-Stream-Error', 'Vary': 'Origin, Origin', 'X-Content-Length': '333', 'X-Robots-Tag': 'noindex', 'X-Stream-Output': '1', 'Transfer-Encoding': 'chunked'}\n"
     ]
    }
   ],
   "source": [
    "print(response.headers)"
   ]
  },
  {
   "cell_type": "code",
   "execution_count": 27,
   "metadata": {},
   "outputs": [],
   "source": [
    "url = \"https://ipfs.infura.io:5001/api/v0/add?pin=false\"\n",
    "project_id = proj_id\n",
    "project_secret = proj_secret\n",
    "file_path = \"../certs/Quantum_Teleportation_Cert_Halter.png\"\n",
    "\n",
    "# Prepare the authentication header\n",
    "auth = (project_id, project_secret)\n",
    "\n",
    "# Prepare the file payload\n",
    "files = {'file': open(file_path, 'rb')}\n",
    "\n",
    "# Prepare the headers\n",
    "headers = {'Content-Type': 'multipart/form-data'}"
   ]
  },
  {
   "cell_type": "code",
   "execution_count": 28,
   "metadata": {},
   "outputs": [
    {
     "name": "stdout",
     "output_type": "stream",
     "text": [
      "File uploaded to IPFS with hash: QmResCFTtWkmeWPtqTZxfTiFXjD61FYEPqmY3wSsePNHAW\n"
     ]
    }
   ],
   "source": [
    "# Make the POST request\n",
    "#response = requests.post(url, auth=auth, files=files, headers=headers)\n",
    "response = requests.post(url, auth=auth, files=files)\n",
    "\n",
    "# Check the response\n",
    "if response.status_code == 200:\n",
    "    ipfs_hash = response.json()['Hash']\n",
    "    print(\"File uploaded to IPFS with hash:\", ipfs_hash)\n",
    "else:\n",
    "    print(\"Error:\", response.text)"
   ]
  },
  {
   "cell_type": "code",
   "execution_count": 20,
   "metadata": {},
   "outputs": [],
   "source": [
    "json_data = {\n",
    "    \"name\": \"PUG\",\n",
    "    \"description\": \"An adorable PUG pup!\",\n",
    "    \"image\": \"https://ipfs.io/ipfs/QmSsYRx3LpDAb1GZQm7zZ1AuHZjfbPkD6J7s9r41xu1mf8?filename=pug.png\",\n",
    "    \"attributes\": [\n",
    "      {\n",
    "        \"trait_type\": \"cuteness\",\n",
    "        \"value\": 89\n",
    "      },\n",
    "      {\n",
    "        \"trait_type\": \"hairy\",\n",
    "        \"value\": 88\n",
    "      }\n",
    "    ]\n",
    "  }"
   ]
  },
  {
   "cell_type": "code",
   "execution_count": 23,
   "metadata": {},
   "outputs": [],
   "source": [
    "# Make the POST request\n",
    "#response = requests.post(url, auth=auth, files=files, headers=headers)\n",
    "response = requests.post(url, auth=(proj_id,proj_secret), data=json_data)\n",
    "\n"
   ]
  },
  {
   "cell_type": "code",
   "execution_count": 25,
   "metadata": {},
   "outputs": [
    {
     "name": "stdout",
     "output_type": "stream",
     "text": [
      "<Response [400]>\n"
     ]
    }
   ],
   "source": [
    "print(response)"
   ]
  },
  {
   "cell_type": "code",
   "execution_count": 31,
   "metadata": {},
   "outputs": [],
   "source": [
    "import os\n",
    "from datetime import datetime\n",
    "\n",
    "def get_timestamp():\n",
    "    # Get the current date and time\n",
    "    #now = datetime.now()\n",
    "\n",
    "    # Format the date and time as a string (You can adjust the format as needed)\n",
    "    timestamp = datetime.now().strftime(\"%Y-%m-%d_%H-%M-%S\")\n",
    "\n",
    "    return timestamp"
   ]
  },
  {
   "cell_type": "code",
   "execution_count": 32,
   "metadata": {},
   "outputs": [
    {
     "name": "stdout",
     "output_type": "stream",
     "text": [
      "2023-07-29_19-08-49\n"
     ]
    }
   ],
   "source": [
    "print(get_timestamp())"
   ]
  },
  {
   "cell_type": "code",
   "execution_count": null,
   "metadata": {},
   "outputs": [],
   "source": [
    "!pip install web3\n"
   ]
  },
  {
   "cell_type": "code",
   "execution_count": 3,
   "metadata": {},
   "outputs": [],
   "source": [
    "from web3 import Web3"
   ]
  },
  {
   "cell_type": "code",
   "execution_count": null,
   "metadata": {},
   "outputs": [],
   "source": [
    "pip freeze\n"
   ]
  },
  {
   "cell_type": "code",
   "execution_count": 21,
   "metadata": {},
   "outputs": [],
   "source": [
    "w3 = Web3(Web3.HTTPProvider('https://sepolia.infura.io/v3/7ac87e37e40f48e88601f55c81ab5478'))"
   ]
  },
  {
   "cell_type": "code",
   "execution_count": 22,
   "metadata": {},
   "outputs": [
    {
     "name": "stdout",
     "output_type": "stream",
     "text": [
      "Connected to network with ID: 11155111\n"
     ]
    }
   ],
   "source": [
    "network_id = w3.net.version \n",
    "print(f\"Connected to network with ID: {network_id}\")\n"
   ]
  },
  {
   "cell_type": "code",
   "execution_count": 23,
   "metadata": {},
   "outputs": [
    {
     "name": "stdout",
     "output_type": "stream",
     "text": [
      "AttributeDict({'baseFeePerGas': 207749329, 'difficulty': 0, 'extraData': HexBytes('0x496c6c756d696e61746520446d6f63726174697a6520447374726962757465'), 'gasLimit': 30000000, 'gasUsed': 6571476, 'hash': HexBytes('0x598ccc1d6e69e3c70a0351dc0bdfcece287acb8d6513c68016bfbb6dcde952cc'), 'logsBloom': HexBytes('0x8000020040104000001482020000000046081010001000210082100400900422000005400080802c00080420000c01800100008400c22200000219080124200000402110088402004004000a000000092400000200440000001000002000080045240081324400000a0d082408004800020804c090810c0000000010001100004200000000000006000008008028002030200000090010000101000010420002020420004000924200000b08000802080000a0400002002000801082022020040000002200001000000000200843100000200880200400200000c40201246004c110020000012000000200006001100080400840080000820020000040410400'), 'miner': '0x1E2cD78882b12d3954a049Fd82FFD691565dC0A5', 'mixHash': HexBytes('0x54d6c49dd7713fa0462338793827c6ee4367109e395609c6e7b2857485e9c715'), 'nonce': HexBytes('0x0000000000000000'), 'number': 4056778, 'parentHash': HexBytes('0xe997536adb58d8c08a481b0344cdb76e650241957042f43fb30c2ca2bff5b901'), 'receiptsRoot': HexBytes('0xdd0295178b7f741062c1439674104041e33044ffdf99d38e09a8e57fd86f0714'), 'sha3Uncles': HexBytes('0x1dcc4de8dec75d7aab85b567b6ccd41ad312451b948a7413f0a142fd40d49347'), 'size': 152804, 'stateRoot': HexBytes('0x1d873cf5a1f3369da5cc145a83aff1d64368ac0e4b58f4aaa04aea1684454d4f'), 'timestamp': 1691605524, 'totalDifficulty': 17000018015853232, 'transactions': [HexBytes('0xf7d597a66ae4f5132c9b35a8132c2ebab7f5e6a428addaef4267e9e48e03eca4'), HexBytes('0xd45692b3b9ae878dc7c7ca26a83df7dd7e375c067a9be228c4fb096cbb21db31'), HexBytes('0xc32c6ff04a50d90e5ae9250eefb2ae5af1d4f17eb88a790b3bdb23e72c3905c3'), HexBytes('0x8f261c3fcb0facdcad5747d07dac7112154e52a21a05a526655eaa1f04f2b366'), HexBytes('0x850de421f4f0b4731f2aac6f270a4fb910c62478e25e3dd919bc97af2e6cd2ba'), HexBytes('0xb435e46d987a88f7d12274e56f9fc0956a73a09369bc06ad916a9a37e52f9f2c'), HexBytes('0x0e7c054bb92b55cb063080b62431d142d2d6e09706f4b6a6456dd939c2acd226'), HexBytes('0x7cce39152cc851e3dc9afd6e05e03c7f901d0722de725d75551ea1c57dda6466'), HexBytes('0xb215d73a66535e00c3ed992f64971fa8a7b67d4b89650cbc924419e6a2ba70bb'), HexBytes('0xf7df5f9b492cd2d85a177da4280e378c6a0c53c4700408e3229d74add5a1e274'), HexBytes('0xa18a5f0f53b7a956075323320d7c93cbebc2849f4cdbbd971834c27f99c6db4d'), HexBytes('0x07c3f62a399f1767f74a4a17c8ca82f3de179a394d6fa63d799c1244d1f3ede8'), HexBytes('0xa31e4629ded01c0553d061f001a04a9b5c4d68be2eddbc65b7f0361cc2decf2c'), HexBytes('0xc4cdfeb6d99dbb821d60880218f6463f5b410d89ce4d04dc76f0a3af8ecc59c8'), HexBytes('0x0dc62ec665172538b589397815b33b1af0712ea9f2b3d79209ec1c0a85471d22'), HexBytes('0x0b0ee9b74b6965254928789c70b5d2c8274180a1fb6e4a23d1416986d9b38bcf'), HexBytes('0x954326b17f32da9db621edb12b3e64801c6b6fa3c2eba2edff4f210306b7f8f2'), HexBytes('0xdbc7e6bf21f7e120f42dab3914a264f696b59fc2a2a41c64fe978afe1c3226b9'), HexBytes('0x7d2bf83c5c21b4c52a4bccd642cc4440de0cceaf0206bc566d1f06d986b95a08'), HexBytes('0xfb6086b4580719715706442b233bcb6a629020f2960fcf059bf22f07cdb93183'), HexBytes('0xd4e392004dc3d139c301da9d6c573a0ff8802e1873da862b8d47eaff35bd1bce'), HexBytes('0x9a8ece4388744e3ad649acd2c58eaa641356b40e44f3ec8bf969b7ca0e4d271d'), HexBytes('0x0a89c6b534734166b894dae2d2d29182406249737e0e4e6b0a287745ed918abc'), HexBytes('0x70b94660bfa3481ff7dfc6e4f62aa124bbd7a9b56c1a68469b2bff15538e9b13'), HexBytes('0x387699313611015b5f72084a9cf2489ac2017e891ca32a513da071cc56fe8a5f'), HexBytes('0xdd9bbc83c4b8642ac7e11cb192040e3aef1e79bde20f50ddba4200330c12382f'), HexBytes('0x70cd0e596c282daf2957623d3580066c301e2de1bdd946240dc4e3647253fd18'), HexBytes('0x8ddf95ed386aa9fd920ac4f1cce1b796a0fd0e569d12a0a587e90caf4c1c510a'), HexBytes('0x65f4101ee278ea5878e3397dbac62a987688d9bf4896266974d467b113223eed'), HexBytes('0xecf0be8e4e91776282e964901847b57a40e37f62e3c1b20e32aa7fd516d8604b'), HexBytes('0x3ca5f73a1d84a19b7eeda279ee05bc64b1a2c202a8bb9e0eb8765f64bdf247d2'), HexBytes('0x9060277159f87dcae463b3c510756e095c492fe9c011ab2b24ba57869ac9c707'), HexBytes('0x4c1bee83fb275ee64aad8d83638d55bae60ad95bc7060dee8af339ab7c1a577e'), HexBytes('0x9ce1a8f0117e80fa6838de0fbb8b4857e851d016d18bc7b6780f46ed9c17a283'), HexBytes('0xb7d5dfa1501d7b6621a958a142dbfb41df03c8f3fc98a9bba84459e580e59183'), HexBytes('0x241873898c791400f251729e09fcf3a449eee979139e68447b760b15fbbac763'), HexBytes('0x12983e92f96b532311650765a13e1001f48ff837f2ac7a7a32a6bfe85ed06475'), HexBytes('0x31c79aa6e80a312ed85544421dd207e761cdcd8c31887ac05c172ce75ff8ae17'), HexBytes('0x5878ffc8f70cf93db3f2a3b97405ada70c0369481b8ca9b4651cc06e0200699e'), HexBytes('0xc03c88d21e8a7341ecfff1556d2e704a91a510c0c545628e749bfdfd8f9dcc7d'), HexBytes('0xe07fc342b86c2b8a9b43c5b9aa02cc328460eb101c7236d1c1f49efadfce1fc6'), HexBytes('0xe1d67d62986a2b88dce23b8593d1ee4b08deedb68b5ec9a1b5c3701dfbe8ae97'), HexBytes('0xe216c2152323f729631c7c0a6056d5a3377e99c605f4090f56cc80ce96f5f481'), HexBytes('0x2b582011dc0c607eb554b258f69791a5dd4a6814e2bb080c813a86c9649bc370'), HexBytes('0xc2afe682febc0e51e64f318b7d873a4599d397d3d8b5e4e536db8dc92849319b'), HexBytes('0xe24fb0a8798040f059476b31528a7d04c1dc61c5eba8e4e9f6217779961dc8d8'), HexBytes('0x6bd27dc637b98713e6784822cfb8365aeb3bab05fe02e4f9e10b32b7f0f1e366'), HexBytes('0x5f3480703eed8d4aa32460b2d23c9e14e78528714111610683c6b00c6ac3fc75'), HexBytes('0xe7a99df40f7c621eeb7a07388bc9657e28c0a72f6f9016ff2ad0c9dd520982fe'), HexBytes('0x932ec14110d7e5032bca972a67b42af572d994f43de93f8b3f24ada742edc9f3'), HexBytes('0xeb906c3374f366754b438e2a9feab5625b2e80c2210ca940cc90566960aac92f'), HexBytes('0xb3bab9ae1b34a5315797eaee7462623aa94935f138b0e72c5db1a2cfad0c9678'), HexBytes('0x780546126d604761cfb033c407efbe6a702f59d1c2d2de309193bd01fd9bde29')], 'transactionsRoot': HexBytes('0xcd3365f45e6bb72a6adde3a69ccf3808bb1949a7d8d568f7d603e2185ade5ae1'), 'uncles': [], 'withdrawals': [AttributeDict({'address': '0x25c4a76E7d118705e7Ea2e9b7d8C59930d8aCD3b', 'amount': 6713, 'index': 17048524, 'validatorIndex': 420}), AttributeDict({'address': '0x25c4a76E7d118705e7Ea2e9b7d8C59930d8aCD3b', 'amount': 6713, 'index': 17048525, 'validatorIndex': 421}), AttributeDict({'address': '0x25c4a76E7d118705e7Ea2e9b7d8C59930d8aCD3b', 'amount': 5754, 'index': 17048526, 'validatorIndex': 430}), AttributeDict({'address': '0x25c4a76E7d118705e7Ea2e9b7d8C59930d8aCD3b', 'amount': 5754, 'index': 17048527, 'validatorIndex': 432}), AttributeDict({'address': '0x25c4a76E7d118705e7Ea2e9b7d8C59930d8aCD3b', 'amount': 5754, 'index': 17048528, 'validatorIndex': 433}), AttributeDict({'address': '0x25c4a76E7d118705e7Ea2e9b7d8C59930d8aCD3b', 'amount': 5754, 'index': 17048529, 'validatorIndex': 434}), AttributeDict({'address': '0x25c4a76E7d118705e7Ea2e9b7d8C59930d8aCD3b', 'amount': 4795, 'index': 17048530, 'validatorIndex': 450}), AttributeDict({'address': '0x25c4a76E7d118705e7Ea2e9b7d8C59930d8aCD3b', 'amount': 4795, 'index': 17048531, 'validatorIndex': 453}), AttributeDict({'address': '0x25c4a76E7d118705e7Ea2e9b7d8C59930d8aCD3b', 'amount': 4795, 'index': 17048532, 'validatorIndex': 456}), AttributeDict({'address': '0x25c4a76E7d118705e7Ea2e9b7d8C59930d8aCD3b', 'amount': 3836, 'index': 17048533, 'validatorIndex': 457}), AttributeDict({'address': '0x25c4a76E7d118705e7Ea2e9b7d8C59930d8aCD3b', 'amount': 3836, 'index': 17048534, 'validatorIndex': 458}), AttributeDict({'address': '0x25c4a76E7d118705e7Ea2e9b7d8C59930d8aCD3b', 'amount': 3836, 'index': 17048535, 'validatorIndex': 464}), AttributeDict({'address': '0x25c4a76E7d118705e7Ea2e9b7d8C59930d8aCD3b', 'amount': 2877, 'index': 17048536, 'validatorIndex': 474}), AttributeDict({'address': '0x25c4a76E7d118705e7Ea2e9b7d8C59930d8aCD3b', 'amount': 2877, 'index': 17048537, 'validatorIndex': 475}), AttributeDict({'address': '0x25c4a76E7d118705e7Ea2e9b7d8C59930d8aCD3b', 'amount': 2877, 'index': 17048538, 'validatorIndex': 476}), AttributeDict({'address': '0x25c4a76E7d118705e7Ea2e9b7d8C59930d8aCD3b', 'amount': 2877, 'index': 17048539, 'validatorIndex': 478})], 'withdrawalsRoot': HexBytes('0xc2850154feb3b48fd2521c12aef8f90232e77e5339cf1c7969ea506bed41b5e7')})\n"
     ]
    }
   ],
   "source": [
    "latest_block = w3.eth.get_block('latest')\n",
    "print(latest_block)"
   ]
  },
  {
   "cell_type": "code",
   "execution_count": 24,
   "metadata": {},
   "outputs": [
    {
     "name": "stdout",
     "output_type": "stream",
     "text": [
      "207765632\n"
     ]
    }
   ],
   "source": [
    "gas_prize = w3.eth.gas_price\n",
    "print(gas_prize)"
   ]
  },
  {
   "cell_type": "code",
   "execution_count": 30,
   "metadata": {},
   "outputs": [
    {
     "name": "stdout",
     "output_type": "stream",
     "text": [
      "False\n"
     ]
    }
   ],
   "source": [
    "addr = w3.is_address(0x68B1D87F95878fE05B998F19b66F4baba5De1aed)\n",
    "print(addr)"
   ]
  },
  {
   "cell_type": "code",
   "execution_count": null,
   "metadata": {},
   "outputs": [],
   "source": []
  }
 ],
 "metadata": {
  "kernelspec": {
   "display_name": "Python 3",
   "language": "python",
   "name": "python3"
  },
  "language_info": {
   "codemirror_mode": {
    "name": "ipython",
    "version": 3
   },
   "file_extension": ".py",
   "mimetype": "text/x-python",
   "name": "python",
   "nbconvert_exporter": "python",
   "pygments_lexer": "ipython3",
   "version": "3.10.11"
  },
  "orig_nbformat": 4
 },
 "nbformat": 4,
 "nbformat_minor": 2
}
